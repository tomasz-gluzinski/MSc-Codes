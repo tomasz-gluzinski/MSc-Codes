{
 "cells": [
  {
   "cell_type": "code",
   "execution_count": 1,
   "id": "73828b09",
   "metadata": {},
   "outputs": [
    {
     "name": "stderr",
     "output_type": "stream",
     "text": [
      "WARNING (theano.configdefaults): g++ not available, if using conda: `conda install m2w64-toolchain`\n"
     ]
    },
    {
     "name": "stdout",
     "output_type": "stream",
     "text": [
      "No module named 'osgeo'\n",
      "Not subsurface compatibility available\n"
     ]
    },
    {
     "name": "stderr",
     "output_type": "stream",
     "text": [
      "C:\\Users\\tgluz\\anaconda3\\envs\\clone_carlos_gp\\lib\\site-packages\\theano\\configdefaults.py:560: UserWarning: DeprecationWarning: there is no c++ compiler.This is deprecated and with Theano 0.11 a c++ compiler will be mandatory\n",
      "  warnings.warn(\"DeprecationWarning: there is no c++ compiler.\"\n",
      "WARNING (theano.configdefaults): g++ not detected ! Theano will be unable to execute optimized C-implementations (for both CPU and GPU) and will default to Python implementations. Performance will be severely degraded. To remove this warning, set Theano flags cxx to an empty string.\n",
      "WARNING (theano.configdefaults): install mkl with `conda install mkl-service`: No module named 'mkl'\n",
      "WARNING (theano.tensor.blas): Using NumPy C-API based implementation for BLAS functions.\n"
     ]
    }
   ],
   "source": [
    "import gempy as gp\n",
    "#importing additional libraries\n",
    "\n",
    "import numpy as np\n",
    "import pandas as pd\n",
    "import matplotlib.pyplot as plt\n",
    "import os\n"
   ]
  },
  {
   "cell_type": "code",
   "execution_count": 2,
   "id": "e42af781",
   "metadata": {},
   "outputs": [],
   "source": [
    "#setting options\n",
    "np.random.seed(1515)\n",
    "pd.set_option('precision',2)\n",
    "\n",
    "geo_model = gp.create_model('Fault_model')\n",
    "\n",
    "\n",
    "data_path ='C:/RWTH_Aachen/thesis/GemPy_Model_from_Andrea/mod3/'"
   ]
  },
  {
   "cell_type": "code",
   "execution_count": 3,
   "id": "01ce4674",
   "metadata": {},
   "outputs": [],
   "source": [
    "# Importing the function to find the interface\n",
    "from gempy.utils.input_manipulation import find_interfaces_from_block_bottoms\n"
   ]
  },
  {
   "cell_type": "code",
   "execution_count": 4,
   "id": "8f2cf264",
   "metadata": {},
   "outputs": [
    {
     "name": "stdout",
     "output_type": "stream",
     "text": [
      "Active grids: ['regular']\n"
     ]
    },
    {
     "data": {
      "text/plain": [
       "Fault_model  2023-06-20 17:13"
      ]
     },
     "execution_count": 4,
     "metadata": {},
     "output_type": "execute_result"
    }
   ],
   "source": [
    "#importing the data from csv files and setting extent and resolution\n",
    "\n",
    "#put dimentions of your model and x y z limits\n",
    "gp.init_data(geo_model, [202000, 218000., 378000, 392000., 0, 2500.], [100, 100, 50],             \n",
    "             path_o=data_path + \"orientations_nodiv.csv\",\n",
    "             path_i=data_path + \"model_points_nodiv.csv\",\n",
    "             default_values=True)"
   ]
  },
  {
   "cell_type": "code",
   "execution_count": 5,
   "id": "0f31a564",
   "metadata": {},
   "outputs": [],
   "source": [
    "#Series derived from seismic interpretation divided into 3 main groups; \n",
    "# tertiary and younger sediments \n",
    "# middle section between tertiary and top of the Massenkalk - Top Devonian\n",
    "# Massenkalk - layer of geothermal interest, Base Devonian \n",
    "#name convention followed from seismic interpretation by Phillip Ruebach @RWTH\n",
    "#anything below considered basement"
   ]
  },
  {
   "cell_type": "code",
   "execution_count": 6,
   "id": "69730627",
   "metadata": {},
   "outputs": [
    {
     "data": {
      "text/html": [
       "<style type=\"text/css\">\n",
       "#T_736ae_row0_col3 {\n",
       "  background-color: #015482;\n",
       "}\n",
       "#T_736ae_row1_col3 {\n",
       "  background-color: #9f0052;\n",
       "}\n",
       "#T_736ae_row2_col3 {\n",
       "  background-color: #ffbe00;\n",
       "}\n",
       "#T_736ae_row3_col3 {\n",
       "  background-color: #728f02;\n",
       "}\n",
       "#T_736ae_row4_col3 {\n",
       "  background-color: #443988;\n",
       "}\n",
       "</style>\n",
       "<table id=\"T_736ae_\">\n",
       "  <thead>\n",
       "    <tr>\n",
       "      <th class=\"blank level0\" >&nbsp;</th>\n",
       "      <th class=\"col_heading level0 col0\" >surface</th>\n",
       "      <th class=\"col_heading level0 col1\" >series</th>\n",
       "      <th class=\"col_heading level0 col2\" >order_surfaces</th>\n",
       "      <th class=\"col_heading level0 col3\" >color</th>\n",
       "      <th class=\"col_heading level0 col4\" >id</th>\n",
       "      <th class=\"col_heading level0 col5\" >value_0</th>\n",
       "    </tr>\n",
       "  </thead>\n",
       "  <tbody>\n",
       "    <tr>\n",
       "      <th id=\"T_736ae_level0_row0\" class=\"row_heading level0 row0\" >0</th>\n",
       "      <td id=\"T_736ae_row0_col0\" class=\"data row0 col0\" >Viersen_Fault</td>\n",
       "      <td id=\"T_736ae_row0_col1\" class=\"data row0 col1\" >Default series</td>\n",
       "      <td id=\"T_736ae_row0_col2\" class=\"data row0 col2\" >1</td>\n",
       "      <td id=\"T_736ae_row0_col3\" class=\"data row0 col3\" >#015482</td>\n",
       "      <td id=\"T_736ae_row0_col4\" class=\"data row0 col4\" >1</td>\n",
       "      <td id=\"T_736ae_row0_col5\" class=\"data row0 col5\" >0.00</td>\n",
       "    </tr>\n",
       "    <tr>\n",
       "      <th id=\"T_736ae_level0_row1\" class=\"row_heading level0 row1\" >1</th>\n",
       "      <td id=\"T_736ae_row1_col0\" class=\"data row1 col0\" >Base_TertiaryE</td>\n",
       "      <td id=\"T_736ae_row1_col1\" class=\"data row1 col1\" >Default series</td>\n",
       "      <td id=\"T_736ae_row1_col2\" class=\"data row1 col2\" >2</td>\n",
       "      <td id=\"T_736ae_row1_col3\" class=\"data row1 col3\" >#9f0052</td>\n",
       "      <td id=\"T_736ae_row1_col4\" class=\"data row1 col4\" >2</td>\n",
       "      <td id=\"T_736ae_row1_col5\" class=\"data row1 col5\" >2.20</td>\n",
       "    </tr>\n",
       "    <tr>\n",
       "      <th id=\"T_736ae_level0_row2\" class=\"row_heading level0 row2\" >2</th>\n",
       "      <td id=\"T_736ae_row2_col0\" class=\"data row2 col0\" >Top_DevonianE</td>\n",
       "      <td id=\"T_736ae_row2_col1\" class=\"data row2 col1\" >Default series</td>\n",
       "      <td id=\"T_736ae_row2_col2\" class=\"data row2 col2\" >3</td>\n",
       "      <td id=\"T_736ae_row2_col3\" class=\"data row2 col3\" >#ffbe00</td>\n",
       "      <td id=\"T_736ae_row2_col4\" class=\"data row2 col4\" >3</td>\n",
       "      <td id=\"T_736ae_row2_col5\" class=\"data row2 col5\" >2.70</td>\n",
       "    </tr>\n",
       "    <tr>\n",
       "      <th id=\"T_736ae_level0_row3\" class=\"row_heading level0 row3\" >3</th>\n",
       "      <td id=\"T_736ae_row3_col0\" class=\"data row3 col0\" >Base_DevonianE</td>\n",
       "      <td id=\"T_736ae_row3_col1\" class=\"data row3 col1\" >Default series</td>\n",
       "      <td id=\"T_736ae_row3_col2\" class=\"data row3 col2\" >4</td>\n",
       "      <td id=\"T_736ae_row3_col3\" class=\"data row3 col3\" >#728f02</td>\n",
       "      <td id=\"T_736ae_row3_col4\" class=\"data row3 col4\" >4</td>\n",
       "      <td id=\"T_736ae_row3_col5\" class=\"data row3 col5\" >2.50</td>\n",
       "    </tr>\n",
       "    <tr>\n",
       "      <th id=\"T_736ae_level0_row4\" class=\"row_heading level0 row4\" >4</th>\n",
       "      <td id=\"T_736ae_row4_col0\" class=\"data row4 col0\" >basement</td>\n",
       "      <td id=\"T_736ae_row4_col1\" class=\"data row4 col1\" >Basement</td>\n",
       "      <td id=\"T_736ae_row4_col2\" class=\"data row4 col2\" >1</td>\n",
       "      <td id=\"T_736ae_row4_col3\" class=\"data row4 col3\" >#443988</td>\n",
       "      <td id=\"T_736ae_row4_col4\" class=\"data row4 col4\" >5</td>\n",
       "      <td id=\"T_736ae_row4_col5\" class=\"data row4 col5\" >3.50</td>\n",
       "    </tr>\n",
       "  </tbody>\n",
       "</table>\n"
      ],
      "text/plain": [
       "          surface          series  order_surfaces    color  id  value_0\n",
       "0   Viersen_Fault  Default series               1  #015482   1      0.0\n",
       "1  Base_TertiaryE  Default series               2  #9f0052   2      2.2\n",
       "2   Top_DevonianE  Default series               3  #ffbe00   3      2.7\n",
       "3  Base_DevonianE  Default series               4  #728f02   4      2.5\n",
       "4        basement        Basement               1  #443988   5      3.5"
      ]
     },
     "execution_count": 6,
     "metadata": {},
     "output_type": "execute_result"
    }
   ],
   "source": [
    "#Assigning densities to the layers \n",
    "geo_model.add_surface_values([0,  \n",
    "                              2.2,  \n",
    "                              2.7,\n",
    "                              2.5,\n",
    "                              3.5,], ['value_0'])"
   ]
  },
  {
   "cell_type": "code",
   "execution_count": 7,
   "id": "1a4d5716",
   "metadata": {},
   "outputs": [
    {
     "data": {
      "text/html": [
       "<div>\n",
       "<style scoped>\n",
       "    .dataframe tbody tr th:only-of-type {\n",
       "        vertical-align: middle;\n",
       "    }\n",
       "\n",
       "    .dataframe tbody tr th {\n",
       "        vertical-align: top;\n",
       "    }\n",
       "\n",
       "    .dataframe thead th {\n",
       "        text-align: right;\n",
       "    }\n",
       "</style>\n",
       "<table border=\"1\" class=\"dataframe\">\n",
       "  <thead>\n",
       "    <tr style=\"text-align: right;\">\n",
       "      <th></th>\n",
       "      <th>X</th>\n",
       "      <th>Y</th>\n",
       "      <th>Z</th>\n",
       "      <th>smooth</th>\n",
       "      <th>surface</th>\n",
       "    </tr>\n",
       "  </thead>\n",
       "  <tbody>\n",
       "    <tr>\n",
       "      <th>0</th>\n",
       "      <td>214040</td>\n",
       "      <td>378350</td>\n",
       "      <td>880</td>\n",
       "      <td>2.00e-06</td>\n",
       "      <td>Viersen_Fault</td>\n",
       "    </tr>\n",
       "    <tr>\n",
       "      <th>1</th>\n",
       "      <td>215330</td>\n",
       "      <td>378820</td>\n",
       "      <td>2080</td>\n",
       "      <td>2.00e-06</td>\n",
       "      <td>Viersen_Fault</td>\n",
       "    </tr>\n",
       "    <tr>\n",
       "      <th>2</th>\n",
       "      <td>215600</td>\n",
       "      <td>378900</td>\n",
       "      <td>2490</td>\n",
       "      <td>2.00e-06</td>\n",
       "      <td>Viersen_Fault</td>\n",
       "    </tr>\n",
       "    <tr>\n",
       "      <th>3</th>\n",
       "      <td>214000</td>\n",
       "      <td>381050</td>\n",
       "      <td>1290</td>\n",
       "      <td>2.00e-06</td>\n",
       "      <td>Viersen_Fault</td>\n",
       "    </tr>\n",
       "    <tr>\n",
       "      <th>4</th>\n",
       "      <td>214400</td>\n",
       "      <td>382650</td>\n",
       "      <td>2160</td>\n",
       "      <td>2.00e-06</td>\n",
       "      <td>Viersen_Fault</td>\n",
       "    </tr>\n",
       "  </tbody>\n",
       "</table>\n",
       "</div>"
      ],
      "text/plain": [
       "        X       Y     Z    smooth        surface\n",
       "0  214040  378350   880  2.00e-06  Viersen_Fault\n",
       "1  215330  378820  2080  2.00e-06  Viersen_Fault\n",
       "2  215600  378900  2490  2.00e-06  Viersen_Fault\n",
       "3  214000  381050  1290  2.00e-06  Viersen_Fault\n",
       "4  214400  382650  2160  2.00e-06  Viersen_Fault"
      ]
     },
     "execution_count": 7,
     "metadata": {},
     "output_type": "execute_result"
    }
   ],
   "source": [
    "#setting the order of the formations and locations - geol sequence\n",
    "gp.get_data(geo_model, 'surface_points').head()\n",
    "\n",
    "\n"
   ]
  },
  {
   "cell_type": "code",
   "execution_count": 88,
   "id": "4ca05620",
   "metadata": {},
   "outputs": [
    {
     "data": {
      "text/html": [
       "<div>\n",
       "<style scoped>\n",
       "    .dataframe tbody tr th:only-of-type {\n",
       "        vertical-align: middle;\n",
       "    }\n",
       "\n",
       "    .dataframe tbody tr th {\n",
       "        vertical-align: top;\n",
       "    }\n",
       "\n",
       "    .dataframe thead th {\n",
       "        text-align: right;\n",
       "    }\n",
       "</style>\n",
       "<table border=\"1\" class=\"dataframe\">\n",
       "  <thead>\n",
       "    <tr style=\"text-align: right;\">\n",
       "      <th></th>\n",
       "      <th>X</th>\n",
       "      <th>Y</th>\n",
       "      <th>Z</th>\n",
       "      <th>G_x</th>\n",
       "      <th>G_y</th>\n",
       "      <th>G_z</th>\n",
       "      <th>smooth</th>\n",
       "      <th>surface</th>\n",
       "    </tr>\n",
       "  </thead>\n",
       "  <tbody>\n",
       "    <tr>\n",
       "      <th>0</th>\n",
       "      <td>212510</td>\n",
       "      <td>386180</td>\n",
       "      <td>1100</td>\n",
       "      <td>-9.06e-01</td>\n",
       "      <td>1.00e-12</td>\n",
       "      <td>0.42</td>\n",
       "      <td>0.01</td>\n",
       "      <td>Viersen_Fault</td>\n",
       "    </tr>\n",
       "    <tr>\n",
       "      <th>1</th>\n",
       "      <td>216000</td>\n",
       "      <td>391000</td>\n",
       "      <td>2260</td>\n",
       "      <td>1.00e-12</td>\n",
       "      <td>1.00e-12</td>\n",
       "      <td>1.00</td>\n",
       "      <td>0.01</td>\n",
       "      <td>Base_TertiaryE</td>\n",
       "    </tr>\n",
       "    <tr>\n",
       "      <th>2</th>\n",
       "      <td>215160</td>\n",
       "      <td>386980</td>\n",
       "      <td>1820</td>\n",
       "      <td>1.00e-12</td>\n",
       "      <td>1.00e-12</td>\n",
       "      <td>1.00</td>\n",
       "      <td>0.01</td>\n",
       "      <td>Top_DevonianE</td>\n",
       "    </tr>\n",
       "    <tr>\n",
       "      <th>3</th>\n",
       "      <td>215160</td>\n",
       "      <td>386980</td>\n",
       "      <td>1420</td>\n",
       "      <td>1.00e-12</td>\n",
       "      <td>1.00e-12</td>\n",
       "      <td>1.00</td>\n",
       "      <td>0.01</td>\n",
       "      <td>Base_DevonianE</td>\n",
       "    </tr>\n",
       "  </tbody>\n",
       "</table>\n",
       "</div>"
      ],
      "text/plain": [
       "        X       Y     Z       G_x       G_y   G_z  smooth         surface\n",
       "0  212510  386180  1100 -9.06e-01  1.00e-12  0.42    0.01   Viersen_Fault\n",
       "1  216000  391000  2260  1.00e-12  1.00e-12  1.00    0.01  Base_TertiaryE\n",
       "2  215160  386980  1820  1.00e-12  1.00e-12  1.00    0.01   Top_DevonianE\n",
       "3  215160  386980  1420  1.00e-12  1.00e-12  1.00    0.01  Base_DevonianE"
      ]
     },
     "execution_count": 88,
     "metadata": {},
     "output_type": "execute_result"
    }
   ],
   "source": [
    "gp.get_data(geo_model, 'orientations').head()"
   ]
  },
  {
   "cell_type": "code",
   "execution_count": 89,
   "id": "a228ae8e",
   "metadata": {},
   "outputs": [
    {
     "data": {
      "text/html": [
       "<div>\n",
       "<style scoped>\n",
       "    .dataframe tbody tr th:only-of-type {\n",
       "        vertical-align: middle;\n",
       "    }\n",
       "\n",
       "    .dataframe tbody tr th {\n",
       "        vertical-align: top;\n",
       "    }\n",
       "\n",
       "    .dataframe thead th {\n",
       "        text-align: right;\n",
       "    }\n",
       "</style>\n",
       "<table border=\"1\" class=\"dataframe\">\n",
       "  <thead>\n",
       "    <tr style=\"text-align: right;\">\n",
       "      <th></th>\n",
       "      <th>Default series</th>\n",
       "      <th>Basement</th>\n",
       "    </tr>\n",
       "  </thead>\n",
       "  <tbody>\n",
       "    <tr>\n",
       "      <th>Default series</th>\n",
       "      <td>False</td>\n",
       "      <td>False</td>\n",
       "    </tr>\n",
       "    <tr>\n",
       "      <th>Basement</th>\n",
       "      <td>False</td>\n",
       "      <td>False</td>\n",
       "    </tr>\n",
       "  </tbody>\n",
       "</table>\n",
       "</div>"
      ],
      "text/plain": [
       "                Default series  Basement\n",
       "Default series           False     False\n",
       "Basement                 False     False"
      ]
     },
     "execution_count": 89,
     "metadata": {},
     "output_type": "execute_result"
    }
   ],
   "source": [
    "geo_model.faults.faults_relations_df"
   ]
  },
  {
   "cell_type": "code",
   "execution_count": 90,
   "id": "43d46ed3",
   "metadata": {},
   "outputs": [
    {
     "data": {
      "text/html": [
       "<style type=\"text/css\">\n",
       "#T_eac86_row0_col3 {\n",
       "  background-color: #015482;\n",
       "}\n",
       "#T_eac86_row1_col3 {\n",
       "  background-color: #9f0052;\n",
       "}\n",
       "#T_eac86_row2_col3 {\n",
       "  background-color: #ffbe00;\n",
       "}\n",
       "#T_eac86_row3_col3 {\n",
       "  background-color: #728f02;\n",
       "}\n",
       "#T_eac86_row4_col3 {\n",
       "  background-color: #443988;\n",
       "}\n",
       "</style>\n",
       "<table id=\"T_eac86_\">\n",
       "  <thead>\n",
       "    <tr>\n",
       "      <th class=\"blank level0\" >&nbsp;</th>\n",
       "      <th class=\"col_heading level0 col0\" >surface</th>\n",
       "      <th class=\"col_heading level0 col1\" >series</th>\n",
       "      <th class=\"col_heading level0 col2\" >order_surfaces</th>\n",
       "      <th class=\"col_heading level0 col3\" >color</th>\n",
       "      <th class=\"col_heading level0 col4\" >id</th>\n",
       "      <th class=\"col_heading level0 col5\" >value_0</th>\n",
       "    </tr>\n",
       "  </thead>\n",
       "  <tbody>\n",
       "    <tr>\n",
       "      <th id=\"T_eac86_level0_row0\" class=\"row_heading level0 row0\" >0</th>\n",
       "      <td id=\"T_eac86_row0_col0\" class=\"data row0 col0\" >Viersen_Fault</td>\n",
       "      <td id=\"T_eac86_row0_col1\" class=\"data row0 col1\" >Default series</td>\n",
       "      <td id=\"T_eac86_row0_col2\" class=\"data row0 col2\" >1</td>\n",
       "      <td id=\"T_eac86_row0_col3\" class=\"data row0 col3\" >#015482</td>\n",
       "      <td id=\"T_eac86_row0_col4\" class=\"data row0 col4\" >1</td>\n",
       "      <td id=\"T_eac86_row0_col5\" class=\"data row0 col5\" >0.00</td>\n",
       "    </tr>\n",
       "    <tr>\n",
       "      <th id=\"T_eac86_level0_row1\" class=\"row_heading level0 row1\" >1</th>\n",
       "      <td id=\"T_eac86_row1_col0\" class=\"data row1 col0\" >Base_TertiaryE</td>\n",
       "      <td id=\"T_eac86_row1_col1\" class=\"data row1 col1\" >Default series</td>\n",
       "      <td id=\"T_eac86_row1_col2\" class=\"data row1 col2\" >2</td>\n",
       "      <td id=\"T_eac86_row1_col3\" class=\"data row1 col3\" >#9f0052</td>\n",
       "      <td id=\"T_eac86_row1_col4\" class=\"data row1 col4\" >2</td>\n",
       "      <td id=\"T_eac86_row1_col5\" class=\"data row1 col5\" >2.20</td>\n",
       "    </tr>\n",
       "    <tr>\n",
       "      <th id=\"T_eac86_level0_row2\" class=\"row_heading level0 row2\" >2</th>\n",
       "      <td id=\"T_eac86_row2_col0\" class=\"data row2 col0\" >Top_DevonianE</td>\n",
       "      <td id=\"T_eac86_row2_col1\" class=\"data row2 col1\" >Default series</td>\n",
       "      <td id=\"T_eac86_row2_col2\" class=\"data row2 col2\" >3</td>\n",
       "      <td id=\"T_eac86_row2_col3\" class=\"data row2 col3\" >#ffbe00</td>\n",
       "      <td id=\"T_eac86_row2_col4\" class=\"data row2 col4\" >3</td>\n",
       "      <td id=\"T_eac86_row2_col5\" class=\"data row2 col5\" >2.70</td>\n",
       "    </tr>\n",
       "    <tr>\n",
       "      <th id=\"T_eac86_level0_row3\" class=\"row_heading level0 row3\" >3</th>\n",
       "      <td id=\"T_eac86_row3_col0\" class=\"data row3 col0\" >Base_DevonianE</td>\n",
       "      <td id=\"T_eac86_row3_col1\" class=\"data row3 col1\" >Default series</td>\n",
       "      <td id=\"T_eac86_row3_col2\" class=\"data row3 col2\" >4</td>\n",
       "      <td id=\"T_eac86_row3_col3\" class=\"data row3 col3\" >#728f02</td>\n",
       "      <td id=\"T_eac86_row3_col4\" class=\"data row3 col4\" >4</td>\n",
       "      <td id=\"T_eac86_row3_col5\" class=\"data row3 col5\" >2.50</td>\n",
       "    </tr>\n",
       "    <tr>\n",
       "      <th id=\"T_eac86_level0_row4\" class=\"row_heading level0 row4\" >4</th>\n",
       "      <td id=\"T_eac86_row4_col0\" class=\"data row4 col0\" >basement</td>\n",
       "      <td id=\"T_eac86_row4_col1\" class=\"data row4 col1\" >Basement</td>\n",
       "      <td id=\"T_eac86_row4_col2\" class=\"data row4 col2\" >1</td>\n",
       "      <td id=\"T_eac86_row4_col3\" class=\"data row4 col3\" >#443988</td>\n",
       "      <td id=\"T_eac86_row4_col4\" class=\"data row4 col4\" >5</td>\n",
       "      <td id=\"T_eac86_row4_col5\" class=\"data row4 col5\" >3.50</td>\n",
       "    </tr>\n",
       "  </tbody>\n",
       "</table>\n"
      ],
      "text/plain": [
       "          surface          series  order_surfaces    color  id  value_0\n",
       "0   Viersen_Fault  Default series               1  #015482   1      0.0\n",
       "1  Base_TertiaryE  Default series               2  #9f0052   2      2.2\n",
       "2   Top_DevonianE  Default series               3  #ffbe00   3      2.7\n",
       "3  Base_DevonianE  Default series               4  #728f02   4      2.5\n",
       "4        basement        Basement               1  #443988   5      3.5"
      ]
     },
     "execution_count": 90,
     "metadata": {},
     "output_type": "execute_result"
    }
   ],
   "source": [
    "geo_model.surfaces"
   ]
  },
  {
   "cell_type": "code",
   "execution_count": 91,
   "id": "8c73f816",
   "metadata": {},
   "outputs": [
    {
     "data": {
      "text/html": [
       "<style type=\"text/css\">\n",
       "#T_044d1_row0_col3 {\n",
       "  background-color: #015482;\n",
       "}\n",
       "#T_044d1_row1_col3 {\n",
       "  background-color: #9f0052;\n",
       "}\n",
       "#T_044d1_row2_col3 {\n",
       "  background-color: #ffbe00;\n",
       "}\n",
       "#T_044d1_row3_col3 {\n",
       "  background-color: #728f02;\n",
       "}\n",
       "#T_044d1_row4_col3 {\n",
       "  background-color: #443988;\n",
       "}\n",
       "</style>\n",
       "<table id=\"T_044d1_\">\n",
       "  <thead>\n",
       "    <tr>\n",
       "      <th class=\"blank level0\" >&nbsp;</th>\n",
       "      <th class=\"col_heading level0 col0\" >surface</th>\n",
       "      <th class=\"col_heading level0 col1\" >series</th>\n",
       "      <th class=\"col_heading level0 col2\" >order_surfaces</th>\n",
       "      <th class=\"col_heading level0 col3\" >color</th>\n",
       "      <th class=\"col_heading level0 col4\" >id</th>\n",
       "      <th class=\"col_heading level0 col5\" >value_0</th>\n",
       "    </tr>\n",
       "  </thead>\n",
       "  <tbody>\n",
       "    <tr>\n",
       "      <th id=\"T_044d1_level0_row0\" class=\"row_heading level0 row0\" >0</th>\n",
       "      <td id=\"T_044d1_row0_col0\" class=\"data row0 col0\" >Viersen_Fault</td>\n",
       "      <td id=\"T_044d1_row0_col1\" class=\"data row0 col1\" >Fault_Series</td>\n",
       "      <td id=\"T_044d1_row0_col2\" class=\"data row0 col2\" >1</td>\n",
       "      <td id=\"T_044d1_row0_col3\" class=\"data row0 col3\" >#015482</td>\n",
       "      <td id=\"T_044d1_row0_col4\" class=\"data row0 col4\" >1</td>\n",
       "      <td id=\"T_044d1_row0_col5\" class=\"data row0 col5\" >0.00</td>\n",
       "    </tr>\n",
       "    <tr>\n",
       "      <th id=\"T_044d1_level0_row1\" class=\"row_heading level0 row1\" >1</th>\n",
       "      <td id=\"T_044d1_row1_col0\" class=\"data row1 col0\" >Base_TertiaryE</td>\n",
       "      <td id=\"T_044d1_row1_col1\" class=\"data row1 col1\" >Strat_Series</td>\n",
       "      <td id=\"T_044d1_row1_col2\" class=\"data row1 col2\" >1</td>\n",
       "      <td id=\"T_044d1_row1_col3\" class=\"data row1 col3\" >#9f0052</td>\n",
       "      <td id=\"T_044d1_row1_col4\" class=\"data row1 col4\" >2</td>\n",
       "      <td id=\"T_044d1_row1_col5\" class=\"data row1 col5\" >2.20</td>\n",
       "    </tr>\n",
       "    <tr>\n",
       "      <th id=\"T_044d1_level0_row2\" class=\"row_heading level0 row2\" >2</th>\n",
       "      <td id=\"T_044d1_row2_col0\" class=\"data row2 col0\" >Top_DevonianE</td>\n",
       "      <td id=\"T_044d1_row2_col1\" class=\"data row2 col1\" >Strat_Series</td>\n",
       "      <td id=\"T_044d1_row2_col2\" class=\"data row2 col2\" >2</td>\n",
       "      <td id=\"T_044d1_row2_col3\" class=\"data row2 col3\" >#ffbe00</td>\n",
       "      <td id=\"T_044d1_row2_col4\" class=\"data row2 col4\" >3</td>\n",
       "      <td id=\"T_044d1_row2_col5\" class=\"data row2 col5\" >2.70</td>\n",
       "    </tr>\n",
       "    <tr>\n",
       "      <th id=\"T_044d1_level0_row3\" class=\"row_heading level0 row3\" >3</th>\n",
       "      <td id=\"T_044d1_row3_col0\" class=\"data row3 col0\" >Base_DevonianE</td>\n",
       "      <td id=\"T_044d1_row3_col1\" class=\"data row3 col1\" >Strat_Series</td>\n",
       "      <td id=\"T_044d1_row3_col2\" class=\"data row3 col2\" >3</td>\n",
       "      <td id=\"T_044d1_row3_col3\" class=\"data row3 col3\" >#728f02</td>\n",
       "      <td id=\"T_044d1_row3_col4\" class=\"data row3 col4\" >4</td>\n",
       "      <td id=\"T_044d1_row3_col5\" class=\"data row3 col5\" >2.50</td>\n",
       "    </tr>\n",
       "    <tr>\n",
       "      <th id=\"T_044d1_level0_row4\" class=\"row_heading level0 row4\" >4</th>\n",
       "      <td id=\"T_044d1_row4_col0\" class=\"data row4 col0\" >basement</td>\n",
       "      <td id=\"T_044d1_row4_col1\" class=\"data row4 col1\" >Basement</td>\n",
       "      <td id=\"T_044d1_row4_col2\" class=\"data row4 col2\" >1</td>\n",
       "      <td id=\"T_044d1_row4_col3\" class=\"data row4 col3\" >#443988</td>\n",
       "      <td id=\"T_044d1_row4_col4\" class=\"data row4 col4\" >5</td>\n",
       "      <td id=\"T_044d1_row4_col5\" class=\"data row4 col5\" >3.50</td>\n",
       "    </tr>\n",
       "  </tbody>\n",
       "</table>\n"
      ],
      "text/plain": [
       "          surface        series  order_surfaces    color  id  value_0\n",
       "0   Viersen_Fault  Fault_Series               1  #015482   1      0.0\n",
       "1  Base_TertiaryE  Strat_Series               1  #9f0052   2      2.2\n",
       "2   Top_DevonianE  Strat_Series               2  #ffbe00   3      2.7\n",
       "3  Base_DevonianE  Strat_Series               3  #728f02   4      2.5\n",
       "4        basement      Basement               1  #443988   5      3.5"
      ]
     },
     "execution_count": 91,
     "metadata": {},
     "output_type": "execute_result"
    }
   ],
   "source": [
    "gp.map_stack_to_surfaces(geo_model,\n",
    "                         {\"Fault_Series\": 'Viersen_Fault',\n",
    "                          \"Fault_Series2\": 'Viersen_Div1',\n",
    "                          \"Strat_Series\": ('Base_TertiaryE', 'Top_DevonianE','Base_DevonianE', 'BasementE',\n",
    "                                           'Base_TertiaryW', 'Top_DevonianW','Base_DevonianW', )},\n",
    "                         remove_unused_series=True)"
   ]
  },
  {
   "cell_type": "code",
   "execution_count": 94,
   "id": "787710d6",
   "metadata": {},
   "outputs": [],
   "source": [
    "color_dict = {'Viersen_Fault': '#015482',  \n",
    "              'Base_TertiaryE': '#ffbe00',  \n",
    "              'Top_DevonianE': '#728f02', \n",
    "              'Base_DevonianE': '#4878d0', \n",
    "               'basement': '#ff3f20'\n",
    "             }\n",
    "# then change colors of your geo_model by:\n",
    "geo_model.surfaces.colors.change_colors(colordict=color_dict)"
   ]
  },
  {
   "cell_type": "code",
   "execution_count": 95,
   "id": "e46bba90",
   "metadata": {},
   "outputs": [
    {
     "data": {
      "text/html": [
       "<style type=\"text/css\">\n",
       "#T_99980_row0_col3 {\n",
       "  background-color: #015482;\n",
       "}\n",
       "#T_99980_row1_col3 {\n",
       "  background-color: #ffbe00;\n",
       "}\n",
       "#T_99980_row2_col3 {\n",
       "  background-color: #728f02;\n",
       "}\n",
       "#T_99980_row3_col3 {\n",
       "  background-color: #4878d0;\n",
       "}\n",
       "#T_99980_row4_col3 {\n",
       "  background-color: #ff3f20;\n",
       "}\n",
       "</style>\n",
       "<table id=\"T_99980_\">\n",
       "  <thead>\n",
       "    <tr>\n",
       "      <th class=\"blank level0\" >&nbsp;</th>\n",
       "      <th class=\"col_heading level0 col0\" >surface</th>\n",
       "      <th class=\"col_heading level0 col1\" >series</th>\n",
       "      <th class=\"col_heading level0 col2\" >order_surfaces</th>\n",
       "      <th class=\"col_heading level0 col3\" >color</th>\n",
       "      <th class=\"col_heading level0 col4\" >id</th>\n",
       "      <th class=\"col_heading level0 col5\" >value_0</th>\n",
       "    </tr>\n",
       "  </thead>\n",
       "  <tbody>\n",
       "    <tr>\n",
       "      <th id=\"T_99980_level0_row0\" class=\"row_heading level0 row0\" >0</th>\n",
       "      <td id=\"T_99980_row0_col0\" class=\"data row0 col0\" >Viersen_Fault</td>\n",
       "      <td id=\"T_99980_row0_col1\" class=\"data row0 col1\" >Fault_Series</td>\n",
       "      <td id=\"T_99980_row0_col2\" class=\"data row0 col2\" >1</td>\n",
       "      <td id=\"T_99980_row0_col3\" class=\"data row0 col3\" >#015482</td>\n",
       "      <td id=\"T_99980_row0_col4\" class=\"data row0 col4\" >1</td>\n",
       "      <td id=\"T_99980_row0_col5\" class=\"data row0 col5\" >0.00</td>\n",
       "    </tr>\n",
       "    <tr>\n",
       "      <th id=\"T_99980_level0_row1\" class=\"row_heading level0 row1\" >1</th>\n",
       "      <td id=\"T_99980_row1_col0\" class=\"data row1 col0\" >Base_TertiaryE</td>\n",
       "      <td id=\"T_99980_row1_col1\" class=\"data row1 col1\" >Strat_Series</td>\n",
       "      <td id=\"T_99980_row1_col2\" class=\"data row1 col2\" >1</td>\n",
       "      <td id=\"T_99980_row1_col3\" class=\"data row1 col3\" >#ffbe00</td>\n",
       "      <td id=\"T_99980_row1_col4\" class=\"data row1 col4\" >2</td>\n",
       "      <td id=\"T_99980_row1_col5\" class=\"data row1 col5\" >2.20</td>\n",
       "    </tr>\n",
       "    <tr>\n",
       "      <th id=\"T_99980_level0_row2\" class=\"row_heading level0 row2\" >2</th>\n",
       "      <td id=\"T_99980_row2_col0\" class=\"data row2 col0\" >Top_DevonianE</td>\n",
       "      <td id=\"T_99980_row2_col1\" class=\"data row2 col1\" >Strat_Series</td>\n",
       "      <td id=\"T_99980_row2_col2\" class=\"data row2 col2\" >2</td>\n",
       "      <td id=\"T_99980_row2_col3\" class=\"data row2 col3\" >#728f02</td>\n",
       "      <td id=\"T_99980_row2_col4\" class=\"data row2 col4\" >3</td>\n",
       "      <td id=\"T_99980_row2_col5\" class=\"data row2 col5\" >2.70</td>\n",
       "    </tr>\n",
       "    <tr>\n",
       "      <th id=\"T_99980_level0_row3\" class=\"row_heading level0 row3\" >3</th>\n",
       "      <td id=\"T_99980_row3_col0\" class=\"data row3 col0\" >Base_DevonianE</td>\n",
       "      <td id=\"T_99980_row3_col1\" class=\"data row3 col1\" >Strat_Series</td>\n",
       "      <td id=\"T_99980_row3_col2\" class=\"data row3 col2\" >3</td>\n",
       "      <td id=\"T_99980_row3_col3\" class=\"data row3 col3\" >#4878d0</td>\n",
       "      <td id=\"T_99980_row3_col4\" class=\"data row3 col4\" >4</td>\n",
       "      <td id=\"T_99980_row3_col5\" class=\"data row3 col5\" >2.50</td>\n",
       "    </tr>\n",
       "    <tr>\n",
       "      <th id=\"T_99980_level0_row4\" class=\"row_heading level0 row4\" >4</th>\n",
       "      <td id=\"T_99980_row4_col0\" class=\"data row4 col0\" >basement</td>\n",
       "      <td id=\"T_99980_row4_col1\" class=\"data row4 col1\" >Basement</td>\n",
       "      <td id=\"T_99980_row4_col2\" class=\"data row4 col2\" >1</td>\n",
       "      <td id=\"T_99980_row4_col3\" class=\"data row4 col3\" >#ff3f20</td>\n",
       "      <td id=\"T_99980_row4_col4\" class=\"data row4 col4\" >5</td>\n",
       "      <td id=\"T_99980_row4_col5\" class=\"data row4 col5\" >3.50</td>\n",
       "    </tr>\n",
       "  </tbody>\n",
       "</table>\n"
      ],
      "text/plain": [
       "          surface        series  order_surfaces    color  id  value_0\n",
       "0   Viersen_Fault  Fault_Series               1  #015482   1      0.0\n",
       "1  Base_TertiaryE  Strat_Series               1  #ffbe00   2      2.2\n",
       "2   Top_DevonianE  Strat_Series               2  #728f02   3      2.7\n",
       "3  Base_DevonianE  Strat_Series               3  #4878d0   4      2.5\n",
       "4        basement      Basement               1  #ff3f20   5      3.5"
      ]
     },
     "execution_count": 95,
     "metadata": {},
     "output_type": "execute_result"
    }
   ],
   "source": [
    "geo_model.surfaces"
   ]
  },
  {
   "cell_type": "code",
   "execution_count": 96,
   "id": "7827275b",
   "metadata": {},
   "outputs": [
    {
     "data": {
      "text/html": [
       "<table border=\"1\" class=\"dataframe\">\n",
       "  <thead>\n",
       "    <tr style=\"text-align: right;\">\n",
       "      <th></th>\n",
       "      <th>order_series</th>\n",
       "      <th>BottomRelation</th>\n",
       "      <th>isActive</th>\n",
       "      <th>isFault</th>\n",
       "      <th>isFinite</th>\n",
       "    </tr>\n",
       "  </thead>\n",
       "  <tbody>\n",
       "    <tr>\n",
       "      <th>Fault_Series</th>\n",
       "      <td>1</td>\n",
       "      <td>Erosion</td>\n",
       "      <td>True</td>\n",
       "      <td>False</td>\n",
       "      <td>False</td>\n",
       "    </tr>\n",
       "    <tr>\n",
       "      <th>Strat_Series</th>\n",
       "      <td>2</td>\n",
       "      <td>Erosion</td>\n",
       "      <td>True</td>\n",
       "      <td>False</td>\n",
       "      <td>False</td>\n",
       "    </tr>\n",
       "    <tr>\n",
       "      <th>Basement</th>\n",
       "      <td>3</td>\n",
       "      <td>Erosion</td>\n",
       "      <td>False</td>\n",
       "      <td>False</td>\n",
       "      <td>False</td>\n",
       "    </tr>\n",
       "  </tbody>\n",
       "</table>"
      ],
      "text/plain": [
       "              order_series BottomRelation  isActive  isFault  isFinite\n",
       "Fault_Series             1        Erosion      True    False     False\n",
       "Strat_Series             2        Erosion      True    False     False\n",
       "Basement                 3        Erosion     False    False     False"
      ]
     },
     "execution_count": 96,
     "metadata": {},
     "output_type": "execute_result"
    }
   ],
   "source": [
    "geo_model.stack"
   ]
  },
  {
   "cell_type": "code",
   "execution_count": 97,
   "id": "5b871de5",
   "metadata": {},
   "outputs": [
    {
     "name": "stdout",
     "output_type": "stream",
     "text": [
      "Fault colors changed. If you do not like this behavior, set change_color to False.\n"
     ]
    },
    {
     "data": {
      "text/html": [
       "<table border=\"1\" class=\"dataframe\">\n",
       "  <thead>\n",
       "    <tr style=\"text-align: right;\">\n",
       "      <th></th>\n",
       "      <th>order_series</th>\n",
       "      <th>BottomRelation</th>\n",
       "      <th>isActive</th>\n",
       "      <th>isFault</th>\n",
       "      <th>isFinite</th>\n",
       "    </tr>\n",
       "  </thead>\n",
       "  <tbody>\n",
       "    <tr>\n",
       "      <th>Fault_Series</th>\n",
       "      <td>1</td>\n",
       "      <td>Fault</td>\n",
       "      <td>True</td>\n",
       "      <td>True</td>\n",
       "      <td>False</td>\n",
       "    </tr>\n",
       "    <tr>\n",
       "      <th>Strat_Series</th>\n",
       "      <td>2</td>\n",
       "      <td>Erosion</td>\n",
       "      <td>True</td>\n",
       "      <td>False</td>\n",
       "      <td>False</td>\n",
       "    </tr>\n",
       "    <tr>\n",
       "      <th>Basement</th>\n",
       "      <td>3</td>\n",
       "      <td>Erosion</td>\n",
       "      <td>False</td>\n",
       "      <td>False</td>\n",
       "      <td>False</td>\n",
       "    </tr>\n",
       "  </tbody>\n",
       "</table>"
      ],
      "text/plain": [
       "              order_series BottomRelation  isActive  isFault  isFinite\n",
       "Fault_Series             1          Fault      True     True     False\n",
       "Strat_Series             2        Erosion      True    False     False\n",
       "Basement                 3        Erosion     False    False     False"
      ]
     },
     "execution_count": 97,
     "metadata": {},
     "output_type": "execute_result"
    }
   ],
   "source": [
    "geo_model.set_is_fault(['Fault_Series'])"
   ]
  },
  {
   "cell_type": "code",
   "execution_count": 98,
   "id": "a2edae64",
   "metadata": {},
   "outputs": [
    {
     "ename": "AssertionError",
     "evalue": "series_faults must already exist in the the series df.",
     "output_type": "error",
     "traceback": [
      "\u001b[1;31m---------------------------------------------------------------------------\u001b[0m",
      "\u001b[1;31mAssertionError\u001b[0m                            Traceback (most recent call last)",
      "\u001b[1;32m~\\AppData\\Local\\Temp\\ipykernel_3008\\726141546.py\u001b[0m in \u001b[0;36m<module>\u001b[1;34m\u001b[0m\n\u001b[1;32m----> 1\u001b[1;33m \u001b[0mgeo_model\u001b[0m\u001b[1;33m.\u001b[0m\u001b[0mset_is_fault\u001b[0m\u001b[1;33m(\u001b[0m\u001b[1;33m[\u001b[0m\u001b[1;34m'Fault_Series2'\u001b[0m\u001b[1;33m]\u001b[0m\u001b[1;33m)\u001b[0m\u001b[1;33m\u001b[0m\u001b[1;33m\u001b[0m\u001b[0m\n\u001b[0m",
      "\u001b[1;32m~\\.conda\\envs\\model_gem\\lib\\site-packages\\gempy\\core\\model.py\u001b[0m in \u001b[0;36mset_is_fault\u001b[1;34m(self, feature_fault, toggle, change_color, twofins)\u001b[0m\n\u001b[0;32m    728\u001b[0m                     \u001b[1;34m' True to suppress this error.'\u001b[0m\u001b[1;33m\u001b[0m\u001b[1;33m\u001b[0m\u001b[0m\n\u001b[0;32m    729\u001b[0m \u001b[1;33m\u001b[0m\u001b[0m\n\u001b[1;32m--> 730\u001b[1;33m         \u001b[0mself\u001b[0m\u001b[1;33m.\u001b[0m\u001b[0m_faults\u001b[0m\u001b[1;33m.\u001b[0m\u001b[0mset_is_fault\u001b[0m\u001b[1;33m(\u001b[0m\u001b[0mfeature_fault\u001b[0m\u001b[1;33m,\u001b[0m \u001b[0mtoggle\u001b[0m\u001b[1;33m=\u001b[0m\u001b[0mtoggle\u001b[0m\u001b[1;33m)\u001b[0m\u001b[1;33m\u001b[0m\u001b[1;33m\u001b[0m\u001b[0m\n\u001b[0m\u001b[0;32m    731\u001b[0m \u001b[1;33m\u001b[0m\u001b[0m\n\u001b[0;32m    732\u001b[0m         \u001b[1;32mif\u001b[0m \u001b[0mtoggle\u001b[0m \u001b[1;32mis\u001b[0m \u001b[1;32mTrue\u001b[0m\u001b[1;33m:\u001b[0m\u001b[1;33m\u001b[0m\u001b[1;33m\u001b[0m\u001b[0m\n",
      "\u001b[1;32m~\\.conda\\envs\\model_gem\\lib\\site-packages\\gempy\\core\\data_modules\\stack.py\u001b[0m in \u001b[0;36mset_is_fault\u001b[1;34m(self, series_fault, toggle, offset_faults)\u001b[0m\n\u001b[0;32m     65\u001b[0m \u001b[1;33m\u001b[0m\u001b[0m\n\u001b[0;32m     66\u001b[0m         \u001b[1;32mif\u001b[0m \u001b[0mseries_fault\u001b[0m\u001b[1;33m[\u001b[0m\u001b[1;36m0\u001b[0m\u001b[1;33m]\u001b[0m \u001b[1;32mis\u001b[0m \u001b[1;32mnot\u001b[0m \u001b[1;32mNone\u001b[0m\u001b[1;33m:\u001b[0m\u001b[1;33m\u001b[0m\u001b[1;33m\u001b[0m\u001b[0m\n\u001b[1;32m---> 67\u001b[1;33m             \u001b[1;32massert\u001b[0m \u001b[0mnp\u001b[0m\u001b[1;33m.\u001b[0m\u001b[0misin\u001b[0m\u001b[1;33m(\u001b[0m\u001b[0mseries_fault\u001b[0m\u001b[1;33m,\u001b[0m \u001b[0mself\u001b[0m\u001b[1;33m.\u001b[0m\u001b[0mdf\u001b[0m\u001b[1;33m.\u001b[0m\u001b[0mindex\u001b[0m\u001b[1;33m)\u001b[0m\u001b[1;33m.\u001b[0m\u001b[0mall\u001b[0m\u001b[1;33m(\u001b[0m\u001b[1;33m)\u001b[0m\u001b[1;33m,\u001b[0m \u001b[1;34m'series_faults must already '\u001b[0m\u001b[0;31m \u001b[0m\u001b[0;31m\\\u001b[0m\u001b[1;33m\u001b[0m\u001b[1;33m\u001b[0m\u001b[0m\n\u001b[0m\u001b[0;32m     68\u001b[0m                                                                                       \u001b[1;34m'exist in the the series df.'\u001b[0m\u001b[1;33m\u001b[0m\u001b[1;33m\u001b[0m\u001b[0m\n\u001b[0;32m     69\u001b[0m             \u001b[1;32mif\u001b[0m \u001b[0mtoggle\u001b[0m \u001b[1;32mis\u001b[0m \u001b[1;32mTrue\u001b[0m\u001b[1;33m:\u001b[0m\u001b[1;33m\u001b[0m\u001b[1;33m\u001b[0m\u001b[0m\n",
      "\u001b[1;31mAssertionError\u001b[0m: series_faults must already exist in the the series df."
     ]
    }
   ],
   "source": [
    "geo_model.set_is_fault(['Fault_Series2'])"
   ]
  },
  {
   "cell_type": "code",
   "execution_count": 99,
   "id": "8f191c5c",
   "metadata": {},
   "outputs": [
    {
     "data": {
      "text/html": [
       "<div>\n",
       "<style scoped>\n",
       "    .dataframe tbody tr th:only-of-type {\n",
       "        vertical-align: middle;\n",
       "    }\n",
       "\n",
       "    .dataframe tbody tr th {\n",
       "        vertical-align: top;\n",
       "    }\n",
       "\n",
       "    .dataframe thead th {\n",
       "        text-align: right;\n",
       "    }\n",
       "</style>\n",
       "<table border=\"1\" class=\"dataframe\">\n",
       "  <thead>\n",
       "    <tr style=\"text-align: right;\">\n",
       "      <th></th>\n",
       "      <th>Fault_Series</th>\n",
       "      <th>Strat_Series</th>\n",
       "      <th>Basement</th>\n",
       "    </tr>\n",
       "  </thead>\n",
       "  <tbody>\n",
       "    <tr>\n",
       "      <th>Fault_Series</th>\n",
       "      <td>False</td>\n",
       "      <td>True</td>\n",
       "      <td>True</td>\n",
       "    </tr>\n",
       "    <tr>\n",
       "      <th>Strat_Series</th>\n",
       "      <td>False</td>\n",
       "      <td>False</td>\n",
       "      <td>False</td>\n",
       "    </tr>\n",
       "    <tr>\n",
       "      <th>Basement</th>\n",
       "      <td>False</td>\n",
       "      <td>False</td>\n",
       "      <td>False</td>\n",
       "    </tr>\n",
       "  </tbody>\n",
       "</table>\n",
       "</div>"
      ],
      "text/plain": [
       "              Fault_Series  Strat_Series  Basement\n",
       "Fault_Series         False          True      True\n",
       "Strat_Series         False         False     False\n",
       "Basement             False         False     False"
      ]
     },
     "execution_count": 99,
     "metadata": {},
     "output_type": "execute_result"
    }
   ],
   "source": [
    "geo_model.faults.faults_relations_df"
   ]
  },
  {
   "cell_type": "code",
   "execution_count": 100,
   "id": "0f2da145",
   "metadata": {},
   "outputs": [
    {
     "data": {
      "text/html": [
       "<div>\n",
       "<style scoped>\n",
       "    .dataframe tbody tr th:only-of-type {\n",
       "        vertical-align: middle;\n",
       "    }\n",
       "\n",
       "    .dataframe tbody tr th {\n",
       "        vertical-align: top;\n",
       "    }\n",
       "\n",
       "    .dataframe thead th {\n",
       "        text-align: right;\n",
       "    }\n",
       "</style>\n",
       "<table border=\"1\" class=\"dataframe\">\n",
       "  <thead>\n",
       "    <tr style=\"text-align: right;\">\n",
       "      <th></th>\n",
       "      <th>X</th>\n",
       "      <th>Y</th>\n",
       "      <th>Z</th>\n",
       "      <th>smooth</th>\n",
       "      <th>surface</th>\n",
       "    </tr>\n",
       "  </thead>\n",
       "  <tbody>\n",
       "    <tr>\n",
       "      <th>0</th>\n",
       "      <td>214040</td>\n",
       "      <td>378350</td>\n",
       "      <td>880</td>\n",
       "      <td>2.00e-06</td>\n",
       "      <td>Viersen_Fault</td>\n",
       "    </tr>\n",
       "    <tr>\n",
       "      <th>1</th>\n",
       "      <td>215330</td>\n",
       "      <td>378820</td>\n",
       "      <td>2080</td>\n",
       "      <td>2.00e-06</td>\n",
       "      <td>Viersen_Fault</td>\n",
       "    </tr>\n",
       "    <tr>\n",
       "      <th>2</th>\n",
       "      <td>215600</td>\n",
       "      <td>378900</td>\n",
       "      <td>2490</td>\n",
       "      <td>2.00e-06</td>\n",
       "      <td>Viersen_Fault</td>\n",
       "    </tr>\n",
       "    <tr>\n",
       "      <th>3</th>\n",
       "      <td>214000</td>\n",
       "      <td>381050</td>\n",
       "      <td>1290</td>\n",
       "      <td>2.00e-06</td>\n",
       "      <td>Viersen_Fault</td>\n",
       "    </tr>\n",
       "    <tr>\n",
       "      <th>4</th>\n",
       "      <td>214400</td>\n",
       "      <td>382650</td>\n",
       "      <td>2160</td>\n",
       "      <td>2.00e-06</td>\n",
       "      <td>Viersen_Fault</td>\n",
       "    </tr>\n",
       "  </tbody>\n",
       "</table>\n",
       "</div>"
      ],
      "text/plain": [
       "        X       Y     Z    smooth        surface\n",
       "0  214040  378350   880  2.00e-06  Viersen_Fault\n",
       "1  215330  378820  2080  2.00e-06  Viersen_Fault\n",
       "2  215600  378900  2490  2.00e-06  Viersen_Fault\n",
       "3  214000  381050  1290  2.00e-06  Viersen_Fault\n",
       "4  214400  382650  2160  2.00e-06  Viersen_Fault"
      ]
     },
     "execution_count": 100,
     "metadata": {},
     "output_type": "execute_result"
    }
   ],
   "source": [
    "#now geomodel contains important info, returning info from the input data\n",
    "geo_model.grid\n",
    "\n",
    "gp.get_data(geo_model, 'surface_points').head()\n",
    "\n"
   ]
  },
  {
   "cell_type": "code",
   "execution_count": 101,
   "id": "111d92c1",
   "metadata": {},
   "outputs": [
    {
     "data": {
      "text/html": [
       "<div>\n",
       "<style scoped>\n",
       "    .dataframe tbody tr th:only-of-type {\n",
       "        vertical-align: middle;\n",
       "    }\n",
       "\n",
       "    .dataframe tbody tr th {\n",
       "        vertical-align: top;\n",
       "    }\n",
       "\n",
       "    .dataframe thead th {\n",
       "        text-align: right;\n",
       "    }\n",
       "</style>\n",
       "<table border=\"1\" class=\"dataframe\">\n",
       "  <thead>\n",
       "    <tr style=\"text-align: right;\">\n",
       "      <th></th>\n",
       "      <th>X</th>\n",
       "      <th>Y</th>\n",
       "      <th>Z</th>\n",
       "      <th>G_x</th>\n",
       "      <th>G_y</th>\n",
       "      <th>G_z</th>\n",
       "      <th>smooth</th>\n",
       "      <th>surface</th>\n",
       "    </tr>\n",
       "  </thead>\n",
       "  <tbody>\n",
       "    <tr>\n",
       "      <th>0</th>\n",
       "      <td>212510</td>\n",
       "      <td>386180</td>\n",
       "      <td>1100</td>\n",
       "      <td>-9.06e-01</td>\n",
       "      <td>1.00e-12</td>\n",
       "      <td>0.42</td>\n",
       "      <td>0.01</td>\n",
       "      <td>Viersen_Fault</td>\n",
       "    </tr>\n",
       "    <tr>\n",
       "      <th>1</th>\n",
       "      <td>216000</td>\n",
       "      <td>391000</td>\n",
       "      <td>2260</td>\n",
       "      <td>1.00e-12</td>\n",
       "      <td>1.00e-12</td>\n",
       "      <td>1.00</td>\n",
       "      <td>0.01</td>\n",
       "      <td>Base_TertiaryE</td>\n",
       "    </tr>\n",
       "    <tr>\n",
       "      <th>2</th>\n",
       "      <td>215160</td>\n",
       "      <td>386980</td>\n",
       "      <td>1820</td>\n",
       "      <td>1.00e-12</td>\n",
       "      <td>1.00e-12</td>\n",
       "      <td>1.00</td>\n",
       "      <td>0.01</td>\n",
       "      <td>Top_DevonianE</td>\n",
       "    </tr>\n",
       "    <tr>\n",
       "      <th>3</th>\n",
       "      <td>215160</td>\n",
       "      <td>386980</td>\n",
       "      <td>1420</td>\n",
       "      <td>1.00e-12</td>\n",
       "      <td>1.00e-12</td>\n",
       "      <td>1.00</td>\n",
       "      <td>0.01</td>\n",
       "      <td>Base_DevonianE</td>\n",
       "    </tr>\n",
       "  </tbody>\n",
       "</table>\n",
       "</div>"
      ],
      "text/plain": [
       "        X       Y     Z       G_x       G_y   G_z  smooth         surface\n",
       "0  212510  386180  1100 -9.06e-01  1.00e-12  0.42    0.01   Viersen_Fault\n",
       "1  216000  391000  2260  1.00e-12  1.00e-12  1.00    0.01  Base_TertiaryE\n",
       "2  215160  386980  1820  1.00e-12  1.00e-12  1.00    0.01   Top_DevonianE\n",
       "3  215160  386980  1420  1.00e-12  1.00e-12  1.00    0.01  Base_DevonianE"
      ]
     },
     "execution_count": 101,
     "metadata": {},
     "output_type": "execute_result"
    }
   ],
   "source": [
    "gp.get_data(geo_model, 'orientations')"
   ]
  },
  {
   "cell_type": "code",
   "execution_count": 102,
   "id": "09953a70",
   "metadata": {},
   "outputs": [
    {
     "name": "stderr",
     "output_type": "stream",
     "text": [
      "C:\\Users\\tgluz\\.conda\\envs\\model_gem\\lib\\site-packages\\gempy\\plot\\plot_api.py:261: UserWarning: Matplotlib is currently using module://matplotlib_inline.backend_inline, which is a non-GUI backend, so cannot show the figure.\n",
      "  p.fig.show()\n"
     ]
    },
    {
     "data": {
      "image/png": "[encoded data removed]",
      "text/plain": [
       "<Figure size 1040x715 with 1 Axes>"
      ]
     },
     "metadata": {},
     "output_type": "display_data"
    }
   ],
   "source": [
    "#visualising input data\n",
    "plot = gp.plot_2d(geo_model, show_lith=False, show_boundaries=False, )\n",
    "plt.show()\n",
    "\n"
   ]
  },
  {
   "cell_type": "code",
   "execution_count": 103,
   "id": "ba43730c",
   "metadata": {},
   "outputs": [],
   "source": [
    "gpv = gp.plot_3d(geo_model, image=False,  plotter_type='basic', )"
   ]
  },
  {
   "cell_type": "code",
   "execution_count": 104,
   "id": "3d30d143",
   "metadata": {
    "scrolled": true
   },
   "outputs": [
    {
     "name": "stdout",
     "output_type": "stream",
     "text": [
      "Setting kriging parameters to their default values.\n",
      "Compiling theano function...\n",
      "Level of Optimization:  fast_compile\n",
      "Device:  cpu\n",
      "Precision:  float64\n",
      "Number of faults:  1\n",
      "Compilation Done!\n",
      "Kriging values: \n",
      "                       values\n",
      "range               21406.77\n",
      "$C_o$            10910714.29\n",
      "drift equations    [3, 3, 3]\n"
     ]
    },
    {
     "data": {
      "text/plain": [
       "\n",
       "Lithology ids \n",
       "  [5. 5. 5. ... 2. 2. 2.] "
      ]
     },
     "execution_count": 104,
     "metadata": {},
     "output_type": "execute_result"
    }
   ],
   "source": [
    "#Model generation\n",
    "gp.set_interpolator(geo_model,\n",
    "                    comlile_theano=True,\n",
    "                    theano_optimizer='fast_compile',)\n",
    "\n",
    "gp.get_data(geo_model, 'kriging')\n",
    "\n",
    "sol = gp.compute_model(geo_model)\n",
    "\n",
    "sol\n",
    "\n",
    "geo_model.solutions"
   ]
  },
  {
   "cell_type": "code",
   "execution_count": 105,
   "id": "6e8ec6e4",
   "metadata": {},
   "outputs": [],
   "source": [
    "#Direct visualisation in GemPy\n",
    "#lithology block\n",
    "#gp.plot_2d(geo_model, cell_number=25,show_data=True)\n",
    "#plt.show()\n",
    "#lithological scalar-field solution -> fold related deformation\n",
    "#gp.plot_2d(geo_model, show_data=False, show_scalar=True, show_lith=False)\n",
    "#plt.show()\n",
    "\n",
    "#fold related deformation on stratigraphy\n",
    "#gp.plot_2d(geo_model, series_n=1, show_data=False, show_scalar=True, show_lith=False)\n",
    "#plt.show()\n",
    "\n",
    "#fault network modelling\n",
    "#geo_model.solutions.scalar_field_at_surface_points\n",
    "\n",
    "##gp.plot_2d(geo_model, show_block=True, show_lith=False)\n",
    "#plt.show()\n",
    "\n",
    "#gp.plot_2d(geo_model, series_n=1, show_block=True, show_lith=False)\n",
    "#plt.show()"
   ]
  },
  {
   "cell_type": "code",
   "execution_count": 106,
   "id": "32f36ac6",
   "metadata": {},
   "outputs": [],
   "source": [
    "#3D visualisation with cubes\n",
    "ver, sim = gp.get_surfaces(geo_model)\n",
    "gpv = gp.plot_3d(geo_model, image=False, plotter_type='basic')"
   ]
  },
  {
   "cell_type": "code",
   "execution_count": 25,
   "id": "87401e45",
   "metadata": {},
   "outputs": [],
   "source": [
    "#Adding topography NEED TO IMPLEMENT DTM\n",
    "#geo_model.set_topography(d_z=(350,750))\n",
    "\n",
    "#gp.compute_model(geo_model)\n",
    "#gp.plot_2d(geo_model, show_topography=True)\n",
    "#plt.show()\n"
   ]
  },
  {
   "cell_type": "code",
   "execution_count": 55,
   "id": "03eca8f9",
   "metadata": {},
   "outputs": [],
   "source": [
    "# sphinx_gallery_thumbnail_number = 9\n",
    "gpv = gp.plot_3d(geo_model, plotter_type='basic', show_topography=True, show_surfaces=True,\n",
    "                 show_lith=True,\n",
    "                 image=False)"
   ]
  },
  {
   "cell_type": "code",
   "execution_count": 220,
   "id": "79e9e4f8",
   "metadata": {},
   "outputs": [
    {
     "name": "stdout",
     "output_type": "stream",
     "text": [
      "Active grids: ['custom']\n"
     ]
    },
    {
     "name": "stderr",
     "output_type": "stream",
     "text": [
      "C:\\Users\\tgluz\\.conda\\envs\\model_gem\\lib\\site-packages\\gempy\\core\\solution.py:175: VisibleDeprecationWarning: Creating an ndarray from ragged nested sequences (which is a list-or-tuple of lists-or-tuples-or ndarrays with different lengths or shapes) is deprecated. If you meant to do this, you must specify 'dtype=object' when creating the ndarray.\n",
      "  self.custom = np.array(\n"
     ]
    },
    {
     "data": {
      "text/plain": [
       "array([array([[7. ],\n",
       "              [2.2]]), array([[11.24032893],\n",
       "                              [ 8.359418  ],\n",
       "                              [49.67313376]])], dtype=object)"
      ]
     },
     "execution_count": 220,
     "metadata": {},
     "output_type": "execute_result"
    }
   ],
   "source": [
    "#returning the id at the scalar field values\n",
    "x_i = np.array([3, 5, 6])\n",
    "\n",
    "sol = gp.compute_model(geo_model, at=x_i)\n",
    "\n",
    "sol.custom"
   ]
  },
  {
   "cell_type": "code",
   "execution_count": 221,
   "id": "79af6521",
   "metadata": {},
   "outputs": [
    {
     "data": {
      "text/plain": [
       "True"
      ]
     },
     "execution_count": 221,
     "metadata": {},
     "output_type": "execute_result"
    }
   ],
   "source": [
    "#save the model!\n",
    "\n",
    "gp.save_model(geo_model)"
   ]
  },
  {
   "cell_type": "code",
   "execution_count": null,
   "id": "563db60f",
   "metadata": {},
   "outputs": [],
   "source": []
  },
  {
   "cell_type": "code",
   "execution_count": null,
   "id": "2c501c96",
   "metadata": {},
   "outputs": [],
   "source": []
  },
  {
   "cell_type": "code",
   "execution_count": null,
   "id": "d29cb0b8",
   "metadata": {},
   "outputs": [],
   "source": []
  },
  {
   "cell_type": "code",
   "execution_count": null,
   "id": "e688d4f2",
   "metadata": {},
   "outputs": [],
   "source": []
  },
  {
   "cell_type": "code",
   "execution_count": null,
   "id": "98110fec",
   "metadata": {},
   "outputs": [],
   "source": []
  },
  {
   "cell_type": "code",
   "execution_count": null,
   "id": "e9d3ccc0",
   "metadata": {},
   "outputs": [],
   "source": []
  },
  {
   "cell_type": "code",
   "execution_count": null,
   "id": "57cf14ce",
   "metadata": {},
   "outputs": [],
   "source": []
  },
  {
   "cell_type": "code",
   "execution_count": null,
   "id": "4f54c300",
   "metadata": {},
   "outputs": [],
   "source": []
  },
  {
   "cell_type": "code",
   "execution_count": null,
   "id": "f9234841",
   "metadata": {},
   "outputs": [],
   "source": []
  },
  {
   "cell_type": "code",
   "execution_count": null,
   "id": "20917de5",
   "metadata": {},
   "outputs": [],
   "source": []
  },
  {
   "cell_type": "code",
   "execution_count": null,
   "id": "28f86b79",
   "metadata": {},
   "outputs": [],
   "source": []
  },
  {
   "cell_type": "code",
   "execution_count": null,
   "id": "9ed6bf3e",
   "metadata": {},
   "outputs": [],
   "source": []
  }
 ],
 "metadata": {
  "kernelspec": {
   "display_name": "Python 3 (ipykernel)",
   "language": "python",
   "name": "python3"
  },
  "language_info": {
   "codemirror_mode": {
    "name": "ipython",
    "version": 3
   },
   "file_extension": ".py",
   "mimetype": "text/x-python",
   "name": "python",
   "nbconvert_exporter": "python",
   "pygments_lexer": "ipython3",
   "version": "3.7.12"
  }
 },
 "nbformat": 4,
 "nbformat_minor": 5
}
